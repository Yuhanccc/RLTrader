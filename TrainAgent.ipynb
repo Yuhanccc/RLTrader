{
 "cells": [
  {
   "cell_type": "code",
   "id": "initial_id",
   "metadata": {
    "collapsed": true
   },
   "source": [
    "import pandas as pd\n",
    "import numpy as np\n",
    "import random\n",
    "from tqdm import tqdm\n",
    "from HighFreqFactors import Factors"
   ],
   "outputs": [],
   "execution_count": null
  },
  {
   "cell_type": "code",
   "id": "ed53fa7e",
   "metadata": {},
   "source": [
    "# Read the daily data\n",
    "spot_data = pd.read_csv('AAPL_1min_不复权.csv',\n",
    "                        names = ['datetime', 'open', 'high', 'low', 'close', 'volume'])\n",
    "\n",
    "# set the index\n",
    "spot_data.index = pd.to_datetime(spot_data['datetime'])\n",
    "spot_data.drop(columns=['datetime'], inplace=True)\n",
    "\n",
    "# Initialize the datadict\n",
    "datas = {}\n",
    "times = np.unique(spot_data.index.date)\n",
    "for time in times:\n",
    "    time_str = time.strftime('%Y-%m-%d')\n",
    "    datas[time_str] = spot_data.loc[time_str]\n"
   ],
   "outputs": [],
   "execution_count": null
  },
  {
   "cell_type": "code",
   "id": "79dd7290",
   "metadata": {},
   "source": [
    "# Suppress SettingWithCopyWarning\n",
    "pd.options.mode.chained_assignment = None  # default='warn'"
   ],
   "outputs": [],
   "execution_count": null
  },
  {
   "cell_type": "code",
   "id": "de9ae240",
   "metadata": {},
   "source": [
    "# Calculate series of features\n",
    "for time in tqdm(times, desc='Calculating features'):\n",
    "    time_str = time.strftime('%Y-%m-%d')\n",
    "    data = datas[time_str]\n",
    "    Factors.calculate_median_price(data)\n",
    "    Factors.calculate_return(data, 'median_price')\n",
    "    Factors.calculate_realized_volatility(data)\n",
    "    Factors.calculate_realized_skewness_expanding(data, 'realized_skewness')\n",
    "    Factors.calculate_realized_kurtosis_expanding(data, 'realized_kurtosis')\n",
    "    Factors.calculate_momentum(data, 'momentum')\n",
    "    datas[time_str] = data\n"
   ],
   "outputs": [],
   "execution_count": null
  },
  {
   "cell_type": "code",
   "id": "fb63ca9d",
   "metadata": {},
   "source": [
    "cols = datas[times[0].strftime('%Y-%m-%d')].columns.to_list()"
   ],
   "outputs": [],
   "execution_count": null
  },
  {
   "cell_type": "code",
   "id": "4978a7df",
   "metadata": {},
   "source": [
    "# Feature normalization function\n",
    "def normalize_expanding(data: pd.DataFrame, factor_col: list):\n",
    "    for factor in factor_col:\n",
    "        expanding_min = data[factor].expanding().min()\n",
    "        expanding_max = data[factor].expanding().max()\n",
    "        data[factor + '_norm'] = 2 * (data[factor] - expanding_min) / (expanding_max - expanding_min) - 1\n",
    "    return data"
   ],
   "outputs": [],
   "execution_count": null
  },
  {
   "cell_type": "code",
   "id": "1a1a6367",
   "metadata": {},
   "source": [
    "# Normalize the features\n",
    "for time in times:\n",
    "    time_str = time.strftime('%Y-%m-%d')\n",
    "    data = datas[time_str]\n",
    "    data = normalize_expanding(data, factors_need_normalize)\n",
    "    datas[time_str] = data"
   ],
   "outputs": [],
   "execution_count": null
  },
  {
   "cell_type": "code",
   "id": "273d8a87",
   "metadata": {},
   "source": [
    "# Add Your Own Factor Names Here\n",
    "facs = list['momentum', 'return', 'realized_volatiltiy','realized_skewness','realized_kurtosis'] + ['close']\n",
    "\n",
    "# create datas_to_use\n",
    "datas_to_use = {}\n",
    "for date in data_dict.keys():\n",
    "    datas_to_use[date] = data_dict[date][facs].dropna(axis=0, how='any', inplace=False)"
   ],
   "outputs": [],
   "execution_count": null
  },
  {
   "cell_type": "code",
   "id": "6981eccb",
   "metadata": {},
   "source": [
    "# Get the list of dates\n",
    "dates = list(datas.keys())\n",
    "train_ratio = 0.8\n",
    "num_dates = len(dates)\n",
    "num_train = int(train_ratio * num_dates)\n",
    "\n",
    "# Split the dates\n",
    "train_dates = dates[:num_train]"
   ],
   "outputs": [],
   "execution_count": null
  },
  {
   "metadata": {},
   "cell_type": "code",
   "source": [
    "# Create environments\n",
    "def create_env(data_dict, date):\n",
    "    data = data_dict[date]\n",
    "    return TradingEnv(data)\n",
    "\n",
    "train_envs = [create_env(datas_to_use, date) for date in train_dates]\n",
    "train_envs = random.sample(train_envs, 300)"
   ],
   "id": "bd8e96e76b12d908",
   "outputs": [],
   "execution_count": null
  },
  {
   "metadata": {},
   "cell_type": "code",
   "source": [
    "# Initialize the DQN agent\n",
    "state_dim = train_envs[0].observation_space.shape[0] * train_envs[0].observation_space.shape[1]\n",
    "action_dim = train_envs[0].action_space.n\n",
    "agent = DQNAgent(state_dim, action_dim,\n",
    "                 replay_buffer_size=10000,\n",
    "                 batch_size=512,\n",
    "                 gamma=0.995,\n",
    "                 lr=0.00001,\n",
    "                 target_update=1000)"
   ],
   "id": "a213e2bf9f05b84d",
   "outputs": [],
   "execution_count": null
  },
  {
   "metadata": {},
   "cell_type": "code",
   "source": [
    "# Train the agent\n",
    "rewards_log = agent.train(train_envs, num_episodes=1)"
   ],
   "id": "d1ce89bcf6b2caa7",
   "outputs": [],
   "execution_count": null
  }
 ],
 "metadata": {
  "kernelspec": {
   "display_name": "Python 3",
   "language": "python",
   "name": "python3"
  },
  "language_info": {
   "codemirror_mode": {
    "name": "ipython",
    "version": 3
   },
   "file_extension": ".py",
   "mimetype": "text/x-python",
   "name": "python",
   "nbconvert_exporter": "python",
   "pygments_lexer": "ipython3",
   "version": "3.9.6"
  }
 },
 "nbformat": 4,
 "nbformat_minor": 5
}
